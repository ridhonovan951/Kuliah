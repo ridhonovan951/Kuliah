{
 "cells": [
  {
   "cell_type": "code",
   "execution_count": 1,
   "id": "5d8d3c44",
   "metadata": {},
   "outputs": [
    {
     "name": "stdout",
     "output_type": "stream",
     "text": [
      "hello world\n"
     ]
    }
   ],
   "source": [
    "print ('hello world')"
   ]
  },
  {
   "cell_type": "code",
   "execution_count": 4,
   "id": "9733948c",
   "metadata": {},
   "outputs": [
    {
     "name": "stdout",
     "output_type": "stream",
     "text": [
      "Nama saya : Ridho Novan Imanda\n",
      "Alamat    : sambak Rt 4/5 Kel. Danyang Kec. Purwodadi kab. Grobogan\n",
      "No HP     : 081327322769\n"
     ]
    }
   ],
   "source": [
    "print ('Nama saya : Ridho Novan Imanda')\n",
    "print ('Alamat    : sambak Rt 4/5 Kel. Danyang Kec. Purwodadi kab. Grobogan')\n",
    "print ('No HP     : 081327322769')"
   ]
  },
  {
   "cell_type": "code",
   "execution_count": null,
   "id": "6b625551",
   "metadata": {},
   "outputs": [],
   "source": []
  }
 ],
 "metadata": {
  "kernelspec": {
   "display_name": "Python 3 (ipykernel)",
   "language": "python",
   "name": "python3"
  },
  "language_info": {
   "codemirror_mode": {
    "name": "ipython",
    "version": 3
   },
   "file_extension": ".py",
   "mimetype": "text/x-python",
   "name": "python",
   "nbconvert_exporter": "python",
   "pygments_lexer": "ipython3",
   "version": "3.9.7"
  }
 },
 "nbformat": 4,
 "nbformat_minor": 5
}
