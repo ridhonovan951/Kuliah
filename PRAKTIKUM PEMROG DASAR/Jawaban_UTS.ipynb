{
 "cells": [
  {
   "cell_type": "markdown",
   "id": "3c281bbb",
   "metadata": {},
   "source": [
    "JAWABAN UTS KELAS A 1"
   ]
  },
  {
   "cell_type": "code",
   "execution_count": 2,
   "id": "66c2b92a",
   "metadata": {},
   "outputs": [
    {
     "name": "stdout",
     "output_type": "stream",
     "text": [
      "===================================\n",
      "Aplikasi Penjualan Minuman Kekinian\n",
      "===================================\n",
      "Varian Menu\n",
      "1. Menu Sweet\n",
      "2. Menu Soda\n",
      "Silahkan Pilih Menu Varian 1 atau 21\n",
      "Pilihan Menu Topping\n",
      "1. Topping Puding\n",
      "2. Toping Jelly\n",
      "3. Toping Boba\n",
      "Silahkan Pilih Topping 1, 2, atau 33\n",
      "Dikemas dengan Large Cup ? Y/N\n",
      "Masukkan Pilihan : Y\n",
      "Berapa Jumlah yang akan dibeli ?\n",
      "Masukkan jumlah yang akan dibeli : 2\n",
      "38000\n"
     ]
    }
   ],
   "source": [
    "print (\"===================================\")\n",
    "print (\"Aplikasi Penjualan Minuman Kekinian\")\n",
    "print (\"===================================\")\n",
    "\n",
    "print (\"Varian Menu\")\n",
    "print (\"1. Menu Sweet\")\n",
    "print (\"2. Menu Soda\")\n",
    "\n",
    "pilihan1 = int(input(\"Silahkan Pilih Menu Varian 1 atau 2\"))\n",
    "\n",
    "if pilihan1 == 1 :\n",
    "    harga = 10000\n",
    "else :\n",
    "    harga = 8000\n",
    "\n",
    "print (\"Pilihan Menu Topping\")\n",
    "print (\"1. Topping Puding\")\n",
    "print (\"2. Toping Jelly\")\n",
    "print (\"3. Toping Boba\")\n",
    "\n",
    "pilihan2 = int(input(\"Silahkan Pilih Topping 1, 2, atau 3\"))\n",
    "\n",
    "if pilihan2 == 1 :\n",
    "    topping = 3000\n",
    "elif pilihan2 == 2 :\n",
    "    topping = 2500\n",
    "else :\n",
    "    topping = 4000\n",
    "    \n",
    "print (\"Dikemas dengan Large Cup ? Y/N\")\n",
    "pilihan3 = input(\"Masukkan Pilihan : \")\n",
    "\n",
    "if pilihan3 == \"Y\":\n",
    "    total = harga + topping + 5000\n",
    "else :\n",
    "    total = harga + topping\n",
    "\n",
    "print (\"Berapa Jumlah yang akan dibeli ?\")\n",
    "jumlah = int(input(\"Masukkan jumlah yang akan dibeli : \"))\n",
    "\n",
    "\n",
    "total_bayar = total * jumlah\n",
    "\n",
    "print (total_bayar)"
   ]
  }
 ],
 "metadata": {
  "kernelspec": {
   "display_name": "Python 3 (ipykernel)",
   "language": "python",
   "name": "python3"
  },
  "language_info": {
   "codemirror_mode": {
    "name": "ipython",
    "version": 3
   },
   "file_extension": ".py",
   "mimetype": "text/x-python",
   "name": "python",
   "nbconvert_exporter": "python",
   "pygments_lexer": "ipython3",
   "version": "3.9.6"
  }
 },
 "nbformat": 4,
 "nbformat_minor": 5
}
