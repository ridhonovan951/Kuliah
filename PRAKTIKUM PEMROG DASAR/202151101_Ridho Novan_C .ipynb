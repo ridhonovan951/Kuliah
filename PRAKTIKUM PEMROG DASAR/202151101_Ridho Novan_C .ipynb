{
 "cells": [
  {
   "cell_type": "code",
   "execution_count": 1,
   "id": "9665780c",
   "metadata": {},
   "outputs": [
    {
     "name": "stdout",
     "output_type": "stream",
     "text": [
      "-----------------------------\n",
      "APLIKASI PENJUALAN SNACK ASIK\n",
      "-----------------------------\n",
      "SNACK YANG TERSEDIA\n",
      "1. snack modern\n",
      "2. snack milenial\n",
      "3. snack micin\n",
      "pilih snack kalian1\n",
      "apabila pembelian anda lebih dari 100pcs maka anda harus memilih grosir\n",
      "1. GROSIR\n",
      "2. ECERAN\n",
      "pilih dong1\n",
      "apakah member Y/N ?Y\n",
      "berapa jumlah pcs snack\n",
      "jumlah pcs snack1\n",
      "total yang harus di bayar\n",
      "12750.0\n"
     ]
    }
   ],
   "source": [
    "print (\"-----------------------------\")\n",
    "print (\"APLIKASI PENJUALAN SNACK ASIK\")\n",
    "print (\"-----------------------------\")\n",
    "\n",
    "print (\"SNACK YANG TERSEDIA\")\n",
    "print (\"1. snack modern\")\n",
    "print (\"2. snack milenial\")\n",
    "print (\"3. snack micin\")\n",
    "\n",
    "pilih = int(input(\"pilih snack kalian\"))\n",
    "\n",
    "if pilih == 1:\n",
    "    harga = 15000\n",
    "elif pilih ==2:\n",
    "    10000\n",
    "else :\n",
    "    harga = 5000\n",
    "    \n",
    "    \n",
    "print (\"apabila pembelian anda lebih dari 100pcs maka anda harus memilih grosir\")\n",
    "print (\"1. GROSIR\")\n",
    "print (\"2. ECERAN\")\n",
    "\n",
    "\n",
    "pilih2 = int(input(\"pilih dong\"))\n",
    "\n",
    "\n",
    "\n",
    "if pilih2 ==1:\n",
    "    diskon = harga * 0.1\n",
    "else :\n",
    "    diskon = harga * 0.05\n",
    "\n",
    "member = str(input(\"apakah member Y/N ?\"))\n",
    "\n",
    "if member == \"Y\":\n",
    "    diskon2 = harga * 0.05\n",
    "else :\n",
    "    diskon2 = harga * 1\n",
    "    \n",
    "\n",
    "diskonsebenarnya = (diskon + diskon2)    \n",
    "    \n",
    "print (\"berapa jumlah pcs snack\")    \n",
    "jumlah = int(input(\"jumlah pcs snack\"))\n",
    "\n",
    "totalsebenarnya = (harga * jumlah) - diskonsebenarnya\n",
    "\n",
    "print (\"total yang harus di bayar\")\n",
    "print (totalsebenarnya)"
   ]
  },
  {
   "cell_type": "code",
   "execution_count": null,
   "id": "e8af09ac",
   "metadata": {},
   "outputs": [],
   "source": []
  }
 ],
 "metadata": {
  "kernelspec": {
   "display_name": "Python 3 (ipykernel)",
   "language": "python",
   "name": "python3"
  },
  "language_info": {
   "codemirror_mode": {
    "name": "ipython",
    "version": 3
   },
   "file_extension": ".py",
   "mimetype": "text/x-python",
   "name": "python",
   "nbconvert_exporter": "python",
   "pygments_lexer": "ipython3",
   "version": "3.9.7"
  }
 },
 "nbformat": 4,
 "nbformat_minor": 5
}
