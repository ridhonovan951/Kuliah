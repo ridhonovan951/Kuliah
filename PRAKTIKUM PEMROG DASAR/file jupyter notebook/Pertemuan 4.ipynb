{
 "cells": [
  {
   "cell_type": "markdown",
   "id": "5c6c19c0",
   "metadata": {},
   "source": [
    "# Latihan Pengenalan Type Data"
   ]
  },
  {
   "cell_type": "code",
   "execution_count": null,
   "id": "d6af825d",
   "metadata": {},
   "outputs": [],
   "source": [
    "# 1. Type data NUMERIK "
   ]
  },
  {
   "cell_type": "code",
   "execution_count": 2,
   "id": "bedc4d2a",
   "metadata": {},
   "outputs": [
    {
     "name": "stdout",
     "output_type": "stream",
     "text": [
      "5 7\n"
     ]
    }
   ],
   "source": [
    "# Integer (Bilangan Bulat), sering di singkat int\n",
    "\n",
    "_a = 5\n",
    "_b = 7\n",
    "\n",
    "print (_a,_b)"
   ]
  },
  {
   "cell_type": "code",
   "execution_count": 6,
   "id": "767c15be",
   "metadata": {
    "scrolled": false
   },
   "outputs": [
    {
     "data": {
      "text/plain": [
       "int"
      ]
     },
     "execution_count": 6,
     "metadata": {},
     "output_type": "execute_result"
    }
   ],
   "source": [
    "# cara mengetahui type data pada sebuah variable\n",
    "\n",
    "type(_a)"
   ]
  },
  {
   "cell_type": "code",
   "execution_count": 7,
   "id": "bcb03214",
   "metadata": {
    "scrolled": true
   },
   "outputs": [
    {
     "name": "stdout",
     "output_type": "stream",
     "text": [
      "7.5 8.9\n"
     ]
    }
   ],
   "source": [
    "# Float (Blangan Pecahan/ Riil)\n",
    "\n",
    "_c = 7.5\n",
    "_d = 8.9\n",
    "\n",
    "print (_c,_d)"
   ]
  },
  {
   "cell_type": "code",
   "execution_count": 9,
   "id": "43d768bd",
   "metadata": {},
   "outputs": [
    {
     "data": {
      "text/plain": [
       "float"
      ]
     },
     "execution_count": 9,
     "metadata": {},
     "output_type": "execute_result"
    }
   ],
   "source": [
    "type(_c)\n"
   ]
  },
  {
   "cell_type": "code",
   "execution_count": 11,
   "id": "c348c16a",
   "metadata": {},
   "outputs": [
    {
     "name": "stdout",
     "output_type": "stream",
     "text": [
      "5j 7j\n"
     ]
    }
   ],
   "source": [
    "# Complex (Imajiner)\n",
    "\n",
    "_e = 5j\n",
    "_f = 7j\n",
    "\n",
    "\n",
    "print (_e,_f)"
   ]
  },
  {
   "cell_type": "code",
   "execution_count": 12,
   "id": "a85b319e",
   "metadata": {
    "scrolled": true
   },
   "outputs": [
    {
     "data": {
      "text/plain": [
       "complex"
      ]
     },
     "execution_count": 12,
     "metadata": {},
     "output_type": "execute_result"
    }
   ],
   "source": [
    "type(_e)"
   ]
  },
  {
   "cell_type": "code",
   "execution_count": 14,
   "id": "8688a11c",
   "metadata": {
    "scrolled": false
   },
   "outputs": [
    {
     "name": "stdout",
     "output_type": "stream",
     "text": [
      "a\n"
     ]
    }
   ],
   "source": [
    "huruf = 'a'\n",
    "\n",
    "print (huruf)"
   ]
  },
  {
   "cell_type": "code",
   "execution_count": 15,
   "id": "95fe5aa0",
   "metadata": {},
   "outputs": [
    {
     "data": {
      "text/plain": [
       "str"
      ]
     },
     "execution_count": 15,
     "metadata": {},
     "output_type": "execute_result"
    }
   ],
   "source": [
    "type (huruf)"
   ]
  },
  {
   "cell_type": "code",
   "execution_count": 16,
   "id": "8d4f6e8d",
   "metadata": {
    "scrolled": true
   },
   "outputs": [
    {
     "name": "stdout",
     "output_type": "stream",
     "text": [
      "True False\n"
     ]
    }
   ],
   "source": [
    "benar = True\n",
    "\n",
    "salah = False\n",
    "\n",
    "print (benar,salah)\n"
   ]
  },
  {
   "cell_type": "code",
   "execution_count": 17,
   "id": "31aa202f",
   "metadata": {},
   "outputs": [
    {
     "data": {
      "text/plain": [
       "bool"
      ]
     },
     "execution_count": 17,
     "metadata": {},
     "output_type": "execute_result"
    }
   ],
   "source": [
    "type (benar)"
   ]
  },
  {
   "cell_type": "code",
   "execution_count": 22,
   "id": "f0323cc5",
   "metadata": {},
   "outputs": [
    {
     "name": "stdout",
     "output_type": "stream",
     "text": [
      "12\n"
     ]
    },
    {
     "data": {
      "text/plain": [
       "int"
      ]
     },
     "execution_count": 22,
     "metadata": {},
     "output_type": "execute_result"
    }
   ],
   "source": [
    "# numerik\n",
    "\n",
    "a = 5\n",
    "b = 7\n",
    "\n",
    "c = a + b\n",
    "\n",
    "print (c)\n",
    "type (c)"
   ]
  },
  {
   "cell_type": "code",
   "execution_count": 23,
   "id": "9b320fd7",
   "metadata": {},
   "outputs": [
    {
     "name": "stdout",
     "output_type": "stream",
     "text": [
      "57\n"
     ]
    },
    {
     "data": {
      "text/plain": [
       "str"
      ]
     },
     "execution_count": 23,
     "metadata": {},
     "output_type": "execute_result"
    }
   ],
   "source": [
    "# teks \n",
    "\n",
    "A = \"5\"\n",
    "B = \"7\"\n",
    "\n",
    "C = A + B\n",
    "\n",
    "print (C)\n",
    "type (C)"
   ]
  },
  {
   "cell_type": "markdown",
   "id": "d9c168fd",
   "metadata": {},
   "source": [
    "# Implementasi Algoritma Mencari Luas Segitiga"
   ]
  },
  {
   "cell_type": "code",
   "execution_count": 24,
   "id": "0a688eea",
   "metadata": {
    "scrolled": true
   },
   "outputs": [
    {
     "name": "stdout",
     "output_type": "stream",
     "text": [
      "60.0\n"
     ]
    }
   ],
   "source": [
    "#Inputan Statis (pemberian nilai pada variable a dan t lagsung melalui code)\n",
    "\n",
    "\n",
    "a = 8\n",
    "t = 15\n",
    "\n",
    "L= 0.5 * a * t\n",
    "\n",
    "print (L)"
   ]
  },
  {
   "cell_type": "code",
   "execution_count": 37,
   "id": "411753d1",
   "metadata": {},
   "outputs": [
    {
     "name": "stdout",
     "output_type": "stream",
     "text": [
      "inputkan nilai a:8\n",
      "inputkan nilai t:15\n",
      "60.0\n"
     ]
    }
   ],
   "source": [
    "#Inputan Dinamis\n",
    "\n",
    "a = float(input(\"inputkan nilai a:\"))\n",
    "t = float(input(\"inputkan nilai t:\"))\n",
    "\n",
    "L= 0.5 * a * t\n",
    "\n",
    "print (L)"
   ]
  }
 ],
 "metadata": {
  "kernelspec": {
   "display_name": "Python 3 (ipykernel)",
   "language": "python",
   "name": "python3"
  },
  "language_info": {
   "codemirror_mode": {
    "name": "ipython",
    "version": 3
   },
   "file_extension": ".py",
   "mimetype": "text/x-python",
   "name": "python",
   "nbconvert_exporter": "python",
   "pygments_lexer": "ipython3",
   "version": "3.9.6"
  }
 },
 "nbformat": 4,
 "nbformat_minor": 5
}
