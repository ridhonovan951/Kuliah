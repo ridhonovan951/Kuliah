{
 "cells": [
  {
   "cell_type": "markdown",
   "id": "e9be7e1c",
   "metadata": {},
   "source": [
    "# IMPLEMENTASI LUAS LINGKARAN"
   ]
  },
  {
   "cell_type": "code",
   "execution_count": 4,
   "id": "76762262",
   "metadata": {},
   "outputs": [
    {
     "name": "stdout",
     "output_type": "stream",
     "text": [
      "615.44\n"
     ]
    }
   ],
   "source": [
    "#imputan statis\n",
    "\n",
    "d = 28\n",
    "r = d/2  \n",
    "phi = 3.14\n",
    "\n",
    "L = phi * (r*r)\n",
    "\n",
    "print (L)"
   ]
  },
  {
   "cell_type": "code",
   "execution_count": null,
   "id": "aab7e4b8",
   "metadata": {},
   "outputs": [],
   "source": [
    "#imputan dinamis\n",
    "\n",
    "phi = float(input(\"inputkan nilai phi:\"))\n",
    "r = float(input(\"inputkan nilai r:\"))\n",
    "\n",
    "L = phi * (r*r)\n",
    "\n",
    "print (L)"
   ]
  }
 ],
 "metadata": {
  "kernelspec": {
   "display_name": "Python 3 (ipykernel)",
   "language": "python",
   "name": "python3"
  },
  "language_info": {
   "codemirror_mode": {
    "name": "ipython",
    "version": 3
   },
   "file_extension": ".py",
   "mimetype": "text/x-python",
   "name": "python",
   "nbconvert_exporter": "python",
   "pygments_lexer": "ipython3",
   "version": "3.9.7"
  }
 },
 "nbformat": 4,
 "nbformat_minor": 5
}
