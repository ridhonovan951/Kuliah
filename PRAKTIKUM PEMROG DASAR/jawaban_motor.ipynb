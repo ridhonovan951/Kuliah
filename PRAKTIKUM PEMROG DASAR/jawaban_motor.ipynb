{
 "cells": [
  {
   "cell_type": "code",
   "execution_count": 5,
   "id": "a6c5a728",
   "metadata": {},
   "outputs": [
    {
     "name": "stdout",
     "output_type": "stream",
     "text": [
      "========================\n",
      "Aplikasi Penjualan Motor\n",
      "========================\n",
      "Jenis Motor yang dijual :\n",
      "1. Motor Sport\n",
      "2. Motor Classic\n",
      "inputkan jumlah unit motor sport yang mau dibeli : 1\n",
      "inputkan jumlah unit motor classic yang mau dibeli : 1\n",
      "Apakah Member Y/N ?N\n",
      "Jumlah yang harus dibayarkan adalah : \n",
      "72000000.0\n",
      "Jumlah cashback yang didapatkan adalah : \n",
      "6250000.0\n"
     ]
    }
   ],
   "source": [
    "print (\"========================\")\n",
    "print (\"Aplikasi Penjualan Motor\")\n",
    "print (\"========================\")\n",
    "print (\"Jenis Motor yang dijual :\")\n",
    "print (\"1. Motor Sport\")\n",
    "print (\"2. Motor Classic\")\n",
    "sport = int(input(\"inputkan jumlah unit motor sport yang mau dibeli : \"))\n",
    "classic = int(input(\"inputkan jumlah unit motor classic yang mau dibeli : \"))\n",
    "harga_sport = sport * 50000000\n",
    "cashback_sport = harga_sport * 0.1\n",
    "harga_classic = classic * 25000000\n",
    "cashback_classic = harga_classic * 0.05\n",
    "member = input(\"Apakah Member Y/N ?\")\n",
    "\n",
    "if member == \"Y\" :\n",
    "    diskon = (harga_sport + harga_classic) * 0.05\n",
    "else :\n",
    "    diskon = (harga_sport + harga_classic) * 0.04\n",
    "    \n",
    "total_bayar = (harga_sport + harga_classic) - diskon\n",
    "total_cashback = (cashback_sport + cashback_classic)\n",
    "\n",
    "print (\"Jumlah yang harus dibayarkan adalah : \")\n",
    "print (total_bayar)\n",
    "\n",
    "print (\"Jumlah cashback yang didapatkan adalah : \")\n",
    "print (total_cashback)"
   ]
  }
 ],
 "metadata": {
  "kernelspec": {
   "display_name": "Python 3 (ipykernel)",
   "language": "python",
   "name": "python3"
  },
  "language_info": {
   "codemirror_mode": {
    "name": "ipython",
    "version": 3
   },
   "file_extension": ".py",
   "mimetype": "text/x-python",
   "name": "python",
   "nbconvert_exporter": "python",
   "pygments_lexer": "ipython3",
   "version": "3.9.6"
  }
 },
 "nbformat": 4,
 "nbformat_minor": 5
}
